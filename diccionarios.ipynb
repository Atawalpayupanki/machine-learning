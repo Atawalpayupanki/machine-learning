{
  "nbformat": 4,
  "nbformat_minor": 0,
  "metadata": {
    "colab": {
      "provenance": [],
      "authorship_tag": "ABX9TyM3nTDTfsAdWqieJQmRNSGN",
      "include_colab_link": true
    },
    "kernelspec": {
      "name": "python3",
      "display_name": "Python 3"
    },
    "language_info": {
      "name": "python"
    }
  },
  "cells": [
    {
      "cell_type": "markdown",
      "metadata": {
        "id": "view-in-github",
        "colab_type": "text"
      },
      "source": [
        "<a href=\"https://colab.research.google.com/github/Atawalpayupanki/machine-learning/blob/master/diccionarios.ipynb\" target=\"_parent\"><img src=\"https://colab.research.google.com/assets/colab-badge.svg\" alt=\"Open In Colab\"/></a>"
      ]
    },
    {
      "cell_type": "code",
      "execution_count": 26,
      "metadata": {
        "id": "bDc5AmST-AQa"
      },
      "outputs": [],
      "source": [
        "diccionario={\n",
        "    \"Pau\": 16,\n",
        "    \"Pau Normal\": 15,\n",
        "    \"javi\": 16,\n",
        "    \"javi Normal\":14\n",
        "}"
      ]
    },
    {
      "cell_type": "code",
      "source": [
        "print(diccionario.get(\"juanfran\"))"
      ],
      "metadata": {
        "id": "hvVPRVaLA0vH",
        "outputId": "08ac7b9e-5f16-4393-8da2-fb26b7e305d2",
        "colab": {
          "base_uri": "https://localhost:8080/"
        }
      },
      "execution_count": 9,
      "outputs": [
        {
          "output_type": "stream",
          "name": "stdout",
          "text": [
            "50\n"
          ]
        }
      ]
    },
    {
      "cell_type": "code",
      "source": [
        "diccionario[\"juanfran\"]= 50\n",
        "diccionario"
      ],
      "metadata": {
        "id": "EThRVZALCGAE",
        "outputId": "8c6f8eda-fb0b-4fbc-8830-6810a77a44c2",
        "colab": {
          "base_uri": "https://localhost:8080/"
        }
      },
      "execution_count": 29,
      "outputs": [
        {
          "output_type": "execute_result",
          "data": {
            "text/plain": [
              "{'Pau': 16, 'Pau Normal': 15, 'javi': 16, 'javi Normal': 14, 'juanfran': 50}"
            ]
          },
          "metadata": {},
          "execution_count": 29
        }
      ]
    },
    {
      "cell_type": "code",
      "source": [
        "diccionario[\"Pau\"]=100"
      ],
      "metadata": {
        "id": "zjbEZPMqC7BQ"
      },
      "execution_count": 11,
      "outputs": []
    },
    {
      "cell_type": "code",
      "source": [
        "del diccionario[\"juanfran\"]\n",
        "diccionario"
      ],
      "metadata": {
        "id": "uLljG7xbDJQP",
        "outputId": "6e946d93-f836-41bb-ac81-cddbcee7e043",
        "colab": {
          "base_uri": "https://localhost:8080/"
        }
      },
      "execution_count": 30,
      "outputs": [
        {
          "output_type": "execute_result",
          "data": {
            "text/plain": [
              "{'Pau': 16, 'Pau Normal': 15, 'javi': 16, 'javi Normal': 14}"
            ]
          },
          "metadata": {},
          "execution_count": 30
        }
      ]
    },
    {
      "cell_type": "code",
      "source": [
        "for persona, edad in diccionario.items ():\n",
        "  print(persona,\"-\",edad)"
      ],
      "metadata": {
        "id": "2LinL6n9Diln",
        "outputId": "78f733c9-d9ca-423b-8359-a8664fffb26d",
        "colab": {
          "base_uri": "https://localhost:8080/"
        }
      },
      "execution_count": 34,
      "outputs": [
        {
          "output_type": "stream",
          "name": "stdout",
          "text": [
            "Pau - 16\n",
            "Pau Normal - 15\n",
            "javi - 16\n",
            "javi Normal - 14\n"
          ]
        }
      ]
    },
    {
      "cell_type": "code",
      "source": [
        "contactos={\n",
        "    \"pau\": 722195302,\n",
        "    \"otroPau\": 722195303,\n",
        "    \"Juanfran\": 123456789\n",
        "}\n"
      ],
      "metadata": {
        "id": "VIqtFCfeGBJw"
      },
      "execution_count": 35,
      "outputs": []
    },
    {
      "cell_type": "code",
      "source": [
        "def agregar_contacto(nombre,numero):\n",
        "  contactos[nombre]=numero\n",
        "  print(f\"{nombre} agregado exitosamente\")"
      ],
      "metadata": {
        "id": "IPD-j7FrGaS5"
      },
      "execution_count": 36,
      "outputs": []
    },
    {
      "cell_type": "code",
      "source": [
        "agregar_contacto(\"pedro shanchez\",666)"
      ],
      "metadata": {
        "id": "Fbmur3xRGwi_",
        "outputId": "91865e96-fb04-4ee7-f27d-d6af01be34c5",
        "colab": {
          "base_uri": "https://localhost:8080/"
        }
      },
      "execution_count": 39,
      "outputs": [
        {
          "output_type": "stream",
          "name": "stdout",
          "text": [
            "pedro shanchez agregado exitosamente\n"
          ]
        }
      ]
    },
    {
      "cell_type": "code",
      "source": [
        "def borrar_contacto(nombre):\n",
        "  del contactos[nombre]\n",
        "  print(f\"{nombre} borrado exitosamente\")"
      ],
      "metadata": {
        "id": "XnmT_x3hG-yk"
      },
      "execution_count": 41,
      "outputs": []
    },
    {
      "cell_type": "code",
      "source": [
        "borrar_contacto(\"Juanfran\")"
      ],
      "metadata": {
        "id": "YOcNKb8fHLI8",
        "outputId": "4562debb-94e3-41f7-9b13-f8845699d70d",
        "colab": {
          "base_uri": "https://localhost:8080/"
        }
      },
      "execution_count": 43,
      "outputs": [
        {
          "output_type": "stream",
          "name": "stdout",
          "text": [
            "Juanfran borrado exitosamente\n"
          ]
        }
      ]
    },
    {
      "cell_type": "code",
      "source": [
        "def mostrar_agenda():\n",
        "  for nombre, numero in contactos.items():\n",
        "    print(f\"{nombre}: {numero}\")"
      ],
      "metadata": {
        "id": "Ny461X7YHS7f"
      },
      "execution_count": null,
      "outputs": []
    },
    {
      "cell_type": "code",
      "source": [
        "libros={\n",
        "    \"12345\":{\"titulo\": \"pompeii\",\n",
        "             \"autor\": \"a nadie le importa\",\n",
        "             \"precio\": \"10 €\",\n",
        "             \"cantidad\": \"0\"},\n",
        "    \"214145\":{\"titulo\": \"el nombre del viento\",\n",
        "             \"autor\": \"pattrick rothfuss\",\n",
        "             \"precio\": \"15 €\",\n",
        "             \"cantidad\": \"10\"},\n",
        "    \"3444141\":{\n",
        "            \"titulo\": \"los elementos de euclides\",\n",
        "             \"autor\": \"euclides\",\n",
        "             \"precio\": \"30 €\",\n",
        "             \"cantidad\": \"60\"\n",
        "\n",
        "    }\n",
        "}\n",
        "isbn=\"214145\"\n",
        "libros[isbn][\"titulo\"]"
      ],
      "metadata": {
        "id": "CkQQhlclIjGJ",
        "outputId": "79745f5a-0d80-4c5b-cc70-352311ec63d6",
        "colab": {
          "base_uri": "https://localhost:8080/",
          "height": 35
        }
      },
      "execution_count": 45,
      "outputs": [
        {
          "output_type": "execute_result",
          "data": {
            "text/plain": [
              "'el nombre del viento'"
            ],
            "application/vnd.google.colaboratory.intrinsic+json": {
              "type": "string"
            }
          },
          "metadata": {},
          "execution_count": 45
        }
      ]
    },
    {
      "cell_type": "code",
      "source": [
        "for isbn in libros:\n",
        "  print(f\"{libros[isbn]['titulo']}: {isbn}\")"
      ],
      "metadata": {
        "id": "p08UuKpYKaZ4",
        "outputId": "60b910f1-e74a-46ef-bd92-dabfb114c1d1",
        "colab": {
          "base_uri": "https://localhost:8080/"
        }
      },
      "execution_count": 52,
      "outputs": [
        {
          "output_type": "stream",
          "name": "stdout",
          "text": [
            "pompeii: 12345\n",
            "el nombre del viento: 214145\n",
            "los elementos de euclides: 3444141\n"
          ]
        }
      ]
    },
    {
      "cell_type": "code",
      "source": [
        "alumnos={\n",
        "    \"Pau\":[\"lengua\", \"matematicas\", \"informatica\"],\n",
        "    \"Juanfran\":[\"informatica\"],\n",
        "    \"Alvaro\":[\"educación fisica\", \"ambito sociolinguistico\"]\n",
        "}\n",
        "\n",
        "def matricular_alumno(nombre, asignatura):\n",
        "  if nombre in alumnos:\n",
        "    alumnos[nombre.append(asignatura)]\n",
        "def desmatricular_alumno()"
      ],
      "metadata": {
        "id": "cPFY2xU7Mvjl"
      },
      "execution_count": null,
      "outputs": []
    }
  ]
}